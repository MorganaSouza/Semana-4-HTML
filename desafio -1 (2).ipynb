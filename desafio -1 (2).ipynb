{
 "cells": [
  {
   "cell_type": "code",
   "execution_count": 1,
   "metadata": {},
   "outputs": [],
   "source": [
    "#solicitação ao usuário que insira o ano de fabricação do carro\n",
    "ano = int(input('digite o ano de fabricação do carro'))\n",
    "\n",
    "#solicitação ao usuário que insira o preço do automóvel\n",
    "preço = float(input('qual o preço de fabricação do carro'))\n",
    "\n",
    "#verifica ano de fabricação antes de 1990\n",
    "if ano < 1990:\n",
    "    taxa = 1/100 * preço\n",
    "else:\n",
    "    taxa = 1.5/100 * preço\n",
    "    \n",
    "#imprime o imposto a ser pago\n",
    "    imposto = preço * taxa \n",
    "    print (\"o imposto a ser pago é de R$\", imposto)\n"
   ]
  },
  {
   "cell_type": "code",
   "execution_count": 7,
   "metadata": {},
   "outputs": [
    {
     "name": "stdout",
     "output_type": "stream",
     "text": [
      "Salário antigo: R$ 101.00\n",
      "Novo salário: R$ 111.10\n",
      "Diferença: R$ 10.10\n"
     ]
    }
   ],
   "source": [
    "# Dicionário com códigos de cargos e percentuais de aumento\n",
    "cargos = {\n",
    "    101: 0.10, # gerente\n",
    "    102: 0.20, # engenheiro\n",
    "    103: 0.30, # técnico\n",
    "}\n",
    "\n",
    "# Solicitar ao usuário que insira o código do cargo e o salário atual\n",
    "codigocargo = int(input('Digite o código do seu cargo: '))\n",
    "salario_atual = float(input('Digite o salário do seu cargo: '))\n",
    "\n",
    "# Verificar se o código do cargo existe no dicionário, caso contrário, aplicar aumento de 40%\n",
    "if codigocargo in cargos:\n",
    "    percentual_aumento = cargos[codigocargo]\n",
    "else: \n",
    "    percentual_aumento = 0.40\n",
    "\n",
    "# Calcular o aumento do salário\n",
    "aumento = salario_atual * percentual_aumento\n",
    "\n",
    "# Calcular o novo salário após o aumento\n",
    "novo_salario = salario_atual + aumento\n",
    "\n",
    "# Calcular a diferença entre o novo salário e o salário atual\n",
    "diferenca = novo_salario - salario_atual\n",
    "\n",
    "# Imprimir os resultados formatados\n",
    "print(f'Salário antigo: R$ {salario_atual:.2f}')\n",
    "print(f'Novo salário: R$ {novo_salario:.2f}')\n",
    "print(f'Diferença: R$ {diferenca:.2f}')\n"
   ]
  }
 ],
 "metadata": {
  "kernelspec": {
   "display_name": "Python 3",
   "language": "python",
   "name": "python3"
  },
  "language_info": {
   "codemirror_mode": {
    "name": "ipython",
    "version": 3
   },
   "file_extension": ".py",
   "mimetype": "text/x-python",
   "name": "python",
   "nbconvert_exporter": "python",
   "pygments_lexer": "ipython3",
   "version": "3.12.1"
  }
 },
 "nbformat": 4,
 "nbformat_minor": 2
}
